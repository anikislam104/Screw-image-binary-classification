{
 "cells": [
  {
   "attachments": {},
   "cell_type": "markdown",
   "metadata": {},
   "source": [
    "# Necessary Imports"
   ]
  },
  {
   "cell_type": "code",
   "execution_count": 34,
   "metadata": {},
   "outputs": [],
   "source": [
    "import pandas as pd\n",
    "import numpy as np\n",
    "import cv2\n",
    "import os\n",
    "import matplotlib.pyplot as plt\n",
    "import matplotlib.image as mpimg\n",
    "from PIL import Image\n",
    "from sklearn.model_selection import train_test_split\n",
    "from keras.models import Sequential\n",
    "from keras.layers import Dense, Conv2D, Flatten , Dropout, MaxPooling2D, Activation\n",
    "from tensorflow.keras import regularizers\n",
    "from tensorflow.keras.optimizers import Adam"
   ]
  },
  {
   "attachments": {},
   "cell_type": "markdown",
   "metadata": {},
   "source": [
    "# Import images"
   ]
  },
  {
   "cell_type": "code",
   "execution_count": 35,
   "metadata": {},
   "outputs": [],
   "source": [
    "train_image_directory = 'archive/train/'\n",
    "test_image_directory = 'archive/test/'\n",
    "size = 224\n",
    "train_images = []\n",
    "train_labels = []\n",
    "\n",
    "good_train_images = os.listdir(train_image_directory + 'good/')\n",
    "\n",
    "for i,image_name in enumerate(good_train_images):\n",
    "    image = cv2.imread(train_image_directory + 'good/' + image_name)\n",
    "    image = cv2.cvtColor(image, cv2.COLOR_BGR2RGB)  \n",
    "    image = cv2.resize(image, (size, size))  \n",
    "    image = np.array(image)\n",
    "    train_images.append(image)\n",
    "    train_labels.append(0)\n"
   ]
  },
  {
   "cell_type": "code",
   "execution_count": 36,
   "metadata": {},
   "outputs": [],
   "source": [
    "bad_train_images = os.listdir(train_image_directory + 'not-good/')\n",
    "for i,image_name in enumerate(bad_train_images):\n",
    "    image = cv2.imread(train_image_directory + 'not-good/' + image_name)\n",
    "    image = cv2.cvtColor(image, cv2.COLOR_BGR2RGB)\n",
    "    image = cv2.resize(image, (size, size))\n",
    "    image = np.array(image)\n",
    "    train_images.append(image)\n",
    "    train_labels.append(1)"
   ]
  },
  {
   "cell_type": "code",
   "execution_count": 37,
   "metadata": {},
   "outputs": [
    {
     "name": "stdout",
     "output_type": "stream",
     "text": [
      "(300, 224, 224, 3)\n",
      "(300,)\n"
     ]
    }
   ],
   "source": [
    "train_images = np.array(train_images)\n",
    "train_labels = np.array(train_labels)\n",
    "print(train_images.shape)\n",
    "print(train_labels.shape)"
   ]
  },
  {
   "cell_type": "code",
   "execution_count": 38,
   "metadata": {},
   "outputs": [
    {
     "name": "stdout",
     "output_type": "stream",
     "text": [
      "(180, 224, 224, 3)\n"
     ]
    }
   ],
   "source": [
    "test_images = []\n",
    "\n",
    "test_images_dir = os.listdir(test_image_directory)\n",
    "for i,image_name in enumerate(test_images_dir):\n",
    "    image = cv2.imread(test_image_directory + image_name)\n",
    "    image = cv2.cvtColor(image, cv2.COLOR_BGR2RGB)\n",
    "    image = cv2.resize(image, (size, size))\n",
    "    image = np.array(image)\n",
    "    test_images.append(image)\n",
    "\n",
    "test_images = np.array(test_images)\n",
    "print(test_images.shape)"
   ]
  },
  {
   "attachments": {},
   "cell_type": "markdown",
   "metadata": {},
   "source": [
    "# Model Implementation"
   ]
  },
  {
   "cell_type": "code",
   "execution_count": 39,
   "metadata": {},
   "outputs": [],
   "source": [
    "model = Sequential()\n",
    "input_shape = (size, size, 3)\n",
    "\n",
    "model.add(Conv2D(filters=96, input_shape=input_shape, kernel_size=(11,11), strides=(4,4), padding='valid', kernel_regularizer=regularizers.l2(0.01)))\n",
    "model.add(Activation('relu'))\n",
    "model.add(MaxPooling2D(pool_size=(2,2), strides=(2,2), padding='valid'))\n",
    "model.add(Conv2D(filters=256, kernel_size=(11,11), strides=(1,1), padding='valid', kernel_regularizer=regularizers.l2(0.01)))\n",
    "model.add(Activation('relu'))\n",
    "model.add(MaxPooling2D(pool_size=(2,2), strides=(2,2), padding='valid'))\n",
    "model.add(Conv2D(filters=384, kernel_size=(3,3), strides=(1,1), padding='valid'))\n",
    "model.add(Activation('relu'))\n",
    "model.add(Dropout(0.4))\n",
    "model.add(Flatten())\n",
    "model.add(Dense(4096, input_shape=(224*224*3,)))\n",
    "model.add(Activation('relu'))\n",
    "model.add(Dense(4096))\n",
    "model.add(Activation('relu'))\n",
    "model.add(Dense(1000))\n",
    "model.add(Activation('relu'))\n",
    "model.add(Dense(1))\n",
    "model.add(Activation('sigmoid'))"
   ]
  },
  {
   "cell_type": "code",
   "execution_count": 40,
   "metadata": {},
   "outputs": [
    {
     "name": "stdout",
     "output_type": "stream",
     "text": [
      "Model: \"sequential_2\"\n",
      "_________________________________________________________________\n",
      " Layer (type)                Output Shape              Param #   \n",
      "=================================================================\n",
      " conv2d_6 (Conv2D)           (None, 54, 54, 96)        34944     \n",
      "                                                                 \n",
      " activation_14 (Activation)  (None, 54, 54, 96)        0         \n",
      "                                                                 \n",
      " max_pooling2d_4 (MaxPooling  (None, 27, 27, 96)       0         \n",
      " 2D)                                                             \n",
      "                                                                 \n",
      " conv2d_7 (Conv2D)           (None, 17, 17, 256)       2973952   \n",
      "                                                                 \n",
      " activation_15 (Activation)  (None, 17, 17, 256)       0         \n",
      "                                                                 \n",
      " max_pooling2d_5 (MaxPooling  (None, 8, 8, 256)        0         \n",
      " 2D)                                                             \n",
      "                                                                 \n",
      " conv2d_8 (Conv2D)           (None, 6, 6, 384)         885120    \n",
      "                                                                 \n",
      " activation_16 (Activation)  (None, 6, 6, 384)         0         \n",
      "                                                                 \n",
      " dropout_2 (Dropout)         (None, 6, 6, 384)         0         \n",
      "                                                                 \n",
      " flatten_2 (Flatten)         (None, 13824)             0         \n",
      "                                                                 \n",
      " dense_8 (Dense)             (None, 4096)              56627200  \n",
      "                                                                 \n",
      " activation_17 (Activation)  (None, 4096)              0         \n",
      "                                                                 \n",
      " dense_9 (Dense)             (None, 4096)              16781312  \n",
      "                                                                 \n",
      " activation_18 (Activation)  (None, 4096)              0         \n",
      "                                                                 \n",
      " dense_10 (Dense)            (None, 1000)              4097000   \n",
      "                                                                 \n",
      " activation_19 (Activation)  (None, 1000)              0         \n",
      "                                                                 \n",
      " dense_11 (Dense)            (None, 1)                 1001      \n",
      "                                                                 \n",
      " activation_20 (Activation)  (None, 1)                 0         \n",
      "                                                                 \n",
      "=================================================================\n",
      "Total params: 81,400,529\n",
      "Trainable params: 81,400,529\n",
      "Non-trainable params: 0\n",
      "_________________________________________________________________\n",
      "None\n"
     ]
    }
   ],
   "source": [
    "model.compile(optimizer=Adam(learning_rate=0.0001), loss='binary_crossentropy', metrics=['accuracy'])\n",
    "print(model.summary())"
   ]
  },
  {
   "attachments": {},
   "cell_type": "markdown",
   "metadata": {},
   "source": [
    "# Train and validation set split"
   ]
  },
  {
   "cell_type": "code",
   "execution_count": 41,
   "metadata": {},
   "outputs": [],
   "source": [
    "X_train, X_val, y_train, y_val = train_test_split(train_images, train_labels, test_size=0.15)"
   ]
  },
  {
   "attachments": {},
   "cell_type": "markdown",
   "metadata": {},
   "source": [
    "# Model Training"
   ]
  },
  {
   "cell_type": "code",
   "execution_count": 42,
   "metadata": {},
   "outputs": [
    {
     "name": "stdout",
     "output_type": "stream",
     "text": [
      "Epoch 1/10\n",
      "8/8 [==============================] - 16s 2s/step - loss: 9.7737 - accuracy: 0.7569 - val_loss: 5.7723 - val_accuracy: 0.2667\n",
      "Epoch 2/10\n",
      "8/8 [==============================] - 15s 2s/step - loss: 2.6195 - accuracy: 0.7608 - val_loss: 1.9833 - val_accuracy: 0.2889\n",
      "Epoch 3/10\n",
      "8/8 [==============================] - 14s 2s/step - loss: 1.6817 - accuracy: 0.8510 - val_loss: 1.8307 - val_accuracy: 0.7333\n",
      "Epoch 4/10\n",
      "8/8 [==============================] - 15s 2s/step - loss: 1.5789 - accuracy: 0.8510 - val_loss: 1.7000 - val_accuracy: 0.7333\n",
      "Epoch 5/10\n",
      "8/8 [==============================] - 14s 2s/step - loss: 1.5242 - accuracy: 0.8510 - val_loss: 1.6447 - val_accuracy: 0.7333\n",
      "Epoch 6/10\n",
      "8/8 [==============================] - 14s 2s/step - loss: 1.4457 - accuracy: 0.8510 - val_loss: 1.5974 - val_accuracy: 0.7333\n",
      "Epoch 7/10\n",
      "8/8 [==============================] - 14s 2s/step - loss: 1.3818 - accuracy: 0.8510 - val_loss: 1.5920 - val_accuracy: 0.7333\n",
      "Epoch 8/10\n",
      "8/8 [==============================] - 14s 2s/step - loss: 1.3372 - accuracy: 0.8510 - val_loss: 1.5266 - val_accuracy: 0.7333\n",
      "Epoch 9/10\n",
      "8/8 [==============================] - 15s 2s/step - loss: 1.3073 - accuracy: 0.8510 - val_loss: 1.7271 - val_accuracy: 0.7333\n",
      "Epoch 10/10\n",
      "8/8 [==============================] - 13s 2s/step - loss: 1.2909 - accuracy: 0.8510 - val_loss: 1.4994 - val_accuracy: 0.7333\n"
     ]
    }
   ],
   "source": [
    "history = model.fit(X_train, y_train, epochs=10, validation_data=(X_val, y_val))"
   ]
  },
  {
   "attachments": {},
   "cell_type": "markdown",
   "metadata": {},
   "source": [
    "# Prediction on Test Images"
   ]
  },
  {
   "cell_type": "code",
   "execution_count": 43,
   "metadata": {},
   "outputs": [
    {
     "name": "stdout",
     "output_type": "stream",
     "text": [
      "6/6 [==============================] - 1s 216ms/step\n"
     ]
    }
   ],
   "source": [
    "# predict on test images\n",
    "predictions = model.predict(test_images)"
   ]
  },
  {
   "cell_type": "code",
   "execution_count": 44,
   "metadata": {},
   "outputs": [],
   "source": [
    "def show_predictions(predictions):\n",
    "    predictions = 1/(1+np.exp(-predictions))\n",
    "    predictions = (predictions - predictions.min())/(predictions.max() - predictions.min())\n",
    "    new_predictions = []\n",
    "    for i in range(len(predictions)):\n",
    "        if predictions[i] <= predictions.mean():\n",
    "            new_predictions.append(\"test_\" + str(i) + \" good\")\n",
    "        else:\n",
    "            new_predictions.append(\"test_\" + str(i) + \" not-good\")\n",
    "    return new_predictions"
   ]
  },
  {
   "attachments": {},
   "cell_type": "markdown",
   "metadata": {},
   "source": [
    "# Print Prediction"
   ]
  },
  {
   "cell_type": "code",
   "execution_count": 45,
   "metadata": {},
   "outputs": [
    {
     "data": {
      "text/plain": [
       "['test_0 good',\n",
       " 'test_1 not-good',\n",
       " 'test_2 not-good',\n",
       " 'test_3 not-good',\n",
       " 'test_4 good',\n",
       " 'test_5 good',\n",
       " 'test_6 good',\n",
       " 'test_7 good',\n",
       " 'test_8 not-good',\n",
       " 'test_9 good',\n",
       " 'test_10 not-good',\n",
       " 'test_11 not-good',\n",
       " 'test_12 good',\n",
       " 'test_13 not-good',\n",
       " 'test_14 good',\n",
       " 'test_15 good',\n",
       " 'test_16 good',\n",
       " 'test_17 not-good',\n",
       " 'test_18 good',\n",
       " 'test_19 good',\n",
       " 'test_20 not-good',\n",
       " 'test_21 not-good',\n",
       " 'test_22 good',\n",
       " 'test_23 not-good',\n",
       " 'test_24 good',\n",
       " 'test_25 not-good',\n",
       " 'test_26 good',\n",
       " 'test_27 good',\n",
       " 'test_28 good',\n",
       " 'test_29 good',\n",
       " 'test_30 good',\n",
       " 'test_31 good',\n",
       " 'test_32 good',\n",
       " 'test_33 not-good',\n",
       " 'test_34 good',\n",
       " 'test_35 good',\n",
       " 'test_36 not-good',\n",
       " 'test_37 not-good',\n",
       " 'test_38 good',\n",
       " 'test_39 not-good',\n",
       " 'test_40 good',\n",
       " 'test_41 not-good',\n",
       " 'test_42 not-good',\n",
       " 'test_43 not-good',\n",
       " 'test_44 good',\n",
       " 'test_45 good',\n",
       " 'test_46 not-good',\n",
       " 'test_47 not-good',\n",
       " 'test_48 good',\n",
       " 'test_49 good',\n",
       " 'test_50 good',\n",
       " 'test_51 not-good',\n",
       " 'test_52 good',\n",
       " 'test_53 not-good',\n",
       " 'test_54 good',\n",
       " 'test_55 good',\n",
       " 'test_56 good',\n",
       " 'test_57 not-good',\n",
       " 'test_58 not-good',\n",
       " 'test_59 good',\n",
       " 'test_60 not-good',\n",
       " 'test_61 good',\n",
       " 'test_62 not-good',\n",
       " 'test_63 not-good',\n",
       " 'test_64 not-good',\n",
       " 'test_65 not-good',\n",
       " 'test_66 not-good',\n",
       " 'test_67 good',\n",
       " 'test_68 good',\n",
       " 'test_69 not-good',\n",
       " 'test_70 good',\n",
       " 'test_71 not-good',\n",
       " 'test_72 not-good',\n",
       " 'test_73 good',\n",
       " 'test_74 not-good',\n",
       " 'test_75 not-good',\n",
       " 'test_76 not-good',\n",
       " 'test_77 good',\n",
       " 'test_78 good',\n",
       " 'test_79 not-good',\n",
       " 'test_80 not-good',\n",
       " 'test_81 good',\n",
       " 'test_82 good',\n",
       " 'test_83 not-good',\n",
       " 'test_84 not-good',\n",
       " 'test_85 not-good',\n",
       " 'test_86 not-good',\n",
       " 'test_87 good',\n",
       " 'test_88 not-good',\n",
       " 'test_89 not-good',\n",
       " 'test_90 good',\n",
       " 'test_91 good',\n",
       " 'test_92 good',\n",
       " 'test_93 good',\n",
       " 'test_94 not-good',\n",
       " 'test_95 not-good',\n",
       " 'test_96 not-good',\n",
       " 'test_97 good',\n",
       " 'test_98 not-good',\n",
       " 'test_99 not-good',\n",
       " 'test_100 good',\n",
       " 'test_101 good',\n",
       " 'test_102 good',\n",
       " 'test_103 good',\n",
       " 'test_104 good',\n",
       " 'test_105 not-good',\n",
       " 'test_106 not-good',\n",
       " 'test_107 not-good',\n",
       " 'test_108 not-good',\n",
       " 'test_109 not-good',\n",
       " 'test_110 not-good',\n",
       " 'test_111 not-good',\n",
       " 'test_112 good',\n",
       " 'test_113 not-good',\n",
       " 'test_114 good',\n",
       " 'test_115 not-good',\n",
       " 'test_116 good',\n",
       " 'test_117 not-good',\n",
       " 'test_118 not-good',\n",
       " 'test_119 good',\n",
       " 'test_120 good',\n",
       " 'test_121 good',\n",
       " 'test_122 good',\n",
       " 'test_123 good',\n",
       " 'test_124 not-good',\n",
       " 'test_125 good',\n",
       " 'test_126 good',\n",
       " 'test_127 not-good',\n",
       " 'test_128 not-good',\n",
       " 'test_129 not-good',\n",
       " 'test_130 not-good',\n",
       " 'test_131 not-good',\n",
       " 'test_132 not-good',\n",
       " 'test_133 not-good',\n",
       " 'test_134 good',\n",
       " 'test_135 good',\n",
       " 'test_136 not-good',\n",
       " 'test_137 good',\n",
       " 'test_138 good',\n",
       " 'test_139 good',\n",
       " 'test_140 not-good',\n",
       " 'test_141 not-good',\n",
       " 'test_142 not-good',\n",
       " 'test_143 not-good',\n",
       " 'test_144 good',\n",
       " 'test_145 not-good',\n",
       " 'test_146 good',\n",
       " 'test_147 not-good',\n",
       " 'test_148 not-good',\n",
       " 'test_149 good',\n",
       " 'test_150 good',\n",
       " 'test_151 good',\n",
       " 'test_152 good',\n",
       " 'test_153 not-good',\n",
       " 'test_154 not-good',\n",
       " 'test_155 good',\n",
       " 'test_156 not-good',\n",
       " 'test_157 good',\n",
       " 'test_158 good',\n",
       " 'test_159 good',\n",
       " 'test_160 not-good',\n",
       " 'test_161 good',\n",
       " 'test_162 good',\n",
       " 'test_163 good',\n",
       " 'test_164 good',\n",
       " 'test_165 good',\n",
       " 'test_166 good',\n",
       " 'test_167 good',\n",
       " 'test_168 good',\n",
       " 'test_169 good',\n",
       " 'test_170 not-good',\n",
       " 'test_171 not-good',\n",
       " 'test_172 good',\n",
       " 'test_173 good',\n",
       " 'test_174 good',\n",
       " 'test_175 good',\n",
       " 'test_176 good',\n",
       " 'test_177 not-good',\n",
       " 'test_178 not-good',\n",
       " 'test_179 not-good']"
      ]
     },
     "execution_count": 45,
     "metadata": {},
     "output_type": "execute_result"
    }
   ],
   "source": [
    "show_predictions(predictions)"
   ]
  },
  {
   "cell_type": "code",
   "execution_count": null,
   "metadata": {},
   "outputs": [],
   "source": []
  }
 ],
 "metadata": {
  "kernelspec": {
   "display_name": "base",
   "language": "python",
   "name": "python3"
  },
  "language_info": {
   "codemirror_mode": {
    "name": "ipython",
    "version": 3
   },
   "file_extension": ".py",
   "mimetype": "text/x-python",
   "name": "python",
   "nbconvert_exporter": "python",
   "pygments_lexer": "ipython3",
   "version": "3.9.7"
  },
  "orig_nbformat": 4
 },
 "nbformat": 4,
 "nbformat_minor": 2
}
